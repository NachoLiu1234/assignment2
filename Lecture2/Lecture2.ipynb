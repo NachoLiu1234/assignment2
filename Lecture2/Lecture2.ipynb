{
 "cells": [
  {
   "cell_type": "markdown",
   "metadata": {},
   "source": [
    "# AI for NLP. Lecture 1 Part 1"
   ]
  },
  {
   "cell_type": "markdown",
   "metadata": {},
   "source": [
    "## Build Graph"
   ]
  },
  {
   "cell_type": "code",
   "execution_count": 22,
   "metadata": {},
   "outputs": [],
   "source": [
    "coordination_source = \"\"\"\n",
    "{name:'兰州', geoCoord:[103.73, 36.03]},\n",
    "{name:'嘉峪关', geoCoord:[98.17, 39.47]},\n",
    "{name:'西宁', geoCoord:[101.74, 36.56]},\n",
    "{name:'成都', geoCoord:[104.06, 30.67]},\n",
    "{name:'石家庄', geoCoord:[114.48, 38.03]},\n",
    "{name:'拉萨', geoCoord:[102.73, 25.04]},\n",
    "{name:'贵阳', geoCoord:[106.71, 26.57]},\n",
    "{name:'武汉', geoCoord:[114.31, 30.52]},\n",
    "{name:'郑州', geoCoord:[113.65, 34.76]},\n",
    "{name:'济南', geoCoord:[117, 36.65]},\n",
    "{name:'南京', geoCoord:[118.78, 32.04]},\n",
    "{name:'合肥', geoCoord:[117.27, 31.86]},\n",
    "{name:'杭州', geoCoord:[120.19, 30.26]},\n",
    "{name:'南昌', geoCoord:[115.89, 28.68]},\n",
    "{name:'福州', geoCoord:[119.3, 26.08]},\n",
    "{name:'广州', geoCoord:[113.23, 23.16]},\n",
    "{name:'长沙', geoCoord:[113, 28.21]},\n",
    "//{name:'海口', geoCoord:[110.35, 20.02]},\n",
    "{name:'沈阳', geoCoord:[123.38, 41.8]},\n",
    "{name:'长春', geoCoord:[125.35, 43.88]},\n",
    "{name:'哈尔滨', geoCoord:[126.63, 45.75]},\n",
    "{name:'太原', geoCoord:[112.53, 37.87]},\n",
    "{name:'西安', geoCoord:[108.95, 34.27]},\n",
    "//{name:'台湾', geoCoord:[121.30, 25.03]},\n",
    "{name:'北京', geoCoord:[116.46, 39.92]},\n",
    "{name:'上海', geoCoord:[121.48, 31.22]},\n",
    "{name:'重庆', geoCoord:[106.54, 29.59]},\n",
    "{name:'天津', geoCoord:[117.2, 39.13]},\n",
    "{name:'呼和浩特', geoCoord:[111.65, 40.82]},\n",
    "{name:'南宁', geoCoord:[108.33, 22.84]},\n",
    "//{name:'西藏', geoCoord:[91.11, 29.97]},\n",
    "{name:'银川', geoCoord:[106.27, 38.47]},\n",
    "{name:'乌鲁木齐', geoCoord:[87.68, 43.77]},\n",
    "{name:'香港', geoCoord:[114.17, 22.28]},\n",
    "{name:'澳门', geoCoord:[113.54, 22.19]}\n",
    "\"\"\""
   ]
  },
  {
   "cell_type": "markdown",
   "metadata": {},
   "source": [
    "### Get data from source using regular expression"
   ]
  },
  {
   "cell_type": "code",
   "execution_count": 23,
   "metadata": {},
   "outputs": [],
   "source": [
    "import re"
   ]
  },
  {
   "cell_type": "markdown",
   "metadata": {},
   "source": [
    "## regular expression"
   ]
  },
  {
   "cell_type": "markdown",
   "metadata": {},
   "source": [
    "[a-z]\n",
    "[A-Z]\n",
    "[^a]: negation\n",
    "colou?r:  ? zero or one of its previous character\n",
    "* : zero or more of its previous character\n",
    "+: one or more\n",
    ".:match any single character\n",
    "^:start of the line\n",
    "$:end of the line\n",
    "| [cat|dog] : cat or dog\n",
    "(da): make the string da like a character\n"
   ]
  },
  {
   "cell_type": "code",
   "execution_count": 24,
   "metadata": {},
   "outputs": [],
   "source": [
    "l = \"color or colour\""
   ]
  },
  {
   "cell_type": "code",
   "execution_count": 25,
   "metadata": {},
   "outputs": [
    {
     "data": {
      "text/plain": [
       "['color', 'colour']"
      ]
     },
     "execution_count": 25,
     "metadata": {},
     "output_type": "execute_result"
    }
   ],
   "source": [
    "pattern = re.compile(\"colou?r\")\n",
    "pattern.findall(l)"
   ]
  },
  {
   "cell_type": "code",
   "execution_count": 26,
   "metadata": {},
   "outputs": [
    {
     "data": {
      "text/plain": [
       "[]"
      ]
     },
     "execution_count": 26,
     "metadata": {},
     "output_type": "execute_result"
    }
   ],
   "source": [
    "re.findall(\"[A-Z]\",l)"
   ]
  },
  {
   "cell_type": "code",
   "execution_count": 27,
   "metadata": {},
   "outputs": [],
   "source": [
    "def get_city_info(city_coordination):\n",
    "    city_location = {}\n",
    "    for line in city_coordination.split(\"\\n\"):\n",
    "        if line.startswith(\"//\"): continue\n",
    "        if line.strip() == \"\":continue\n",
    "            \n",
    "        city = re.findall(\"name:'(\\w+)'\",line)[0]\n",
    "        x_y = re.findall(\"Coord:\\[(\\d+.\\d+),\\s(\\d+.\\d+)\\]\",line)[0]\n",
    "        x_y = tuple(map(float,x_y))\n",
    "        city_location[city] = x_y\n",
    "    return city_location"
   ]
  },
  {
   "cell_type": "code",
   "execution_count": 28,
   "metadata": {},
   "outputs": [],
   "source": [
    "city_info = get_city_info(coordination_source)"
   ]
  },
  {
   "cell_type": "code",
   "execution_count": 29,
   "metadata": {},
   "outputs": [
    {
     "data": {
      "text/plain": [
       "{'兰州': (103.73, 36.03),\n",
       " '嘉峪关': (98.17, 39.47),\n",
       " '西宁': (101.74, 36.56),\n",
       " '成都': (104.06, 30.67),\n",
       " '石家庄': (114.48, 38.03),\n",
       " '拉萨': (102.73, 25.04),\n",
       " '贵阳': (106.71, 26.57),\n",
       " '武汉': (114.31, 30.52),\n",
       " '郑州': (113.65, 34.76),\n",
       " '济南': (117.0, 36.65),\n",
       " '南京': (118.78, 32.04),\n",
       " '合肥': (117.27, 31.86),\n",
       " '杭州': (120.19, 30.26),\n",
       " '南昌': (115.89, 28.68),\n",
       " '福州': (119.3, 26.08),\n",
       " '广州': (113.23, 23.16),\n",
       " '长沙': (113.0, 28.21),\n",
       " '沈阳': (123.38, 41.8),\n",
       " '长春': (125.35, 43.88),\n",
       " '哈尔滨': (126.63, 45.75),\n",
       " '太原': (112.53, 37.87),\n",
       " '西安': (108.95, 34.27),\n",
       " '北京': (116.46, 39.92),\n",
       " '上海': (121.48, 31.22),\n",
       " '重庆': (106.54, 29.59),\n",
       " '天津': (117.2, 39.13),\n",
       " '呼和浩特': (111.65, 40.82),\n",
       " '南宁': (108.33, 22.84),\n",
       " '银川': (106.27, 38.47),\n",
       " '乌鲁木齐': (87.68, 43.77),\n",
       " '香港': (114.17, 22.28),\n",
       " '澳门': (113.54, 22.19)}"
      ]
     },
     "execution_count": 29,
     "metadata": {},
     "output_type": "execute_result"
    }
   ],
   "source": [
    "city_info"
   ]
  },
  {
   "cell_type": "markdown",
   "metadata": {},
   "source": [
    "### Compute distance between cities"
   ]
  },
  {
   "cell_type": "code",
   "execution_count": 30,
   "metadata": {},
   "outputs": [],
   "source": [
    "import math\n",
    "\n",
    "def geo_distance(origin, destination):\n",
    "    \"\"\"\n",
    "    Calculate the Haversine distance.\n",
    "\n",
    "    Parameters\n",
    "    ----------\n",
    "    origin : tuple of float\n",
    "        (lat, long)\n",
    "    destination : tuple of float\n",
    "        (lat, long)\n",
    "\n",
    "    Returns\n",
    "    -------\n",
    "    distance_in_km : float\n",
    "\n",
    "    Examples\n",
    "    --------\n",
    "    >>> origin = (48.1372, 11.5756)  # Munich\n",
    "    >>> destination = (52.5186, 13.4083)  # Berlin\n",
    "    >>> round(distance(origin, destination), 1)\n",
    "    504.2\n",
    "    \"\"\"\n",
    "    lat1, lon1 = origin\n",
    "    lat2, lon2 = destination\n",
    "    radius = 6371  # km\n",
    "\n",
    "    dlat = math.radians(lat2 - lat1)\n",
    "    dlon = math.radians(lon2 - lon1)\n",
    "    a = (math.sin(dlat / 2) * math.sin(dlat / 2) +\n",
    "         math.cos(math.radians(lat1)) * math.cos(math.radians(lat2)) *\n",
    "         math.sin(dlon / 2) * math.sin(dlon / 2))\n",
    "    c = 2 * math.atan2(math.sqrt(a), math.sqrt(1 - a))\n",
    "    d = radius * c\n",
    "\n",
    "    return d"
   ]
  },
  {
   "cell_type": "code",
   "execution_count": 31,
   "metadata": {},
   "outputs": [
    {
     "data": {
      "text/plain": [
       "153.5185697155768"
      ]
     },
     "execution_count": 31,
     "metadata": {},
     "output_type": "execute_result"
    }
   ],
   "source": [
    "def get_city_distance(city1,city2):\n",
    "    return geo_distance(city_info[city1],city_info[city2])\n",
    "\n",
    "get_city_distance(\"杭州\",\"上海\")"
   ]
  },
  {
   "cell_type": "markdown",
   "metadata": {},
   "source": [
    "### Draw the graph"
   ]
  },
  {
   "cell_type": "code",
   "execution_count": 32,
   "metadata": {},
   "outputs": [],
   "source": [
    "import networkx as nx\n",
    "import matplotlib.pyplot as plt\n",
    "#%matplotlib inline\n",
    "\n",
    "#plt.rcParams['font.sans-serif'] = ['SimHei']\n",
    "#plt.rcParams['axes.unicode_minus'] = False\n"
   ]
  },
  {
   "cell_type": "code",
   "execution_count": 33,
   "metadata": {},
   "outputs": [
    {
     "data": {
      "text/plain": [
       "dict_keys(['兰州', '嘉峪关', '西宁', '成都', '石家庄', '拉萨', '贵阳', '武汉', '郑州', '济南', '南京', '合肥', '杭州', '南昌', '福州', '广州', '长沙', '沈阳', '长春', '哈尔滨', '太原', '西安', '北京', '上海', '重庆', '天津', '呼和浩特', '南宁', '银川', '乌鲁木齐', '香港', '澳门'])"
      ]
     },
     "execution_count": 33,
     "metadata": {},
     "output_type": "execute_result"
    }
   ],
   "source": [
    "city_info.keys()"
   ]
  },
  {
   "cell_type": "code",
   "execution_count": 34,
   "metadata": {},
   "outputs": [],
   "source": [
    "city_graph = nx.Graph()\n",
    "\n",
    "city_graph.add_nodes_from(list(city_info.keys()))\n",
    "                        "
   ]
  },
  {
   "cell_type": "code",
   "execution_count": 35,
   "metadata": {},
   "outputs": [
    {
     "data": {
      "image/png": "[encoded data removed]",
      "text/plain": [
       "<Figure size 432x288 with 1 Axes>"
      ]
     },
     "metadata": {},
     "output_type": "display_data"
    }
   ],
   "source": [
    "nx.draw(city_graph, city_info, with_labels=True, node_size=10)"
   ]
  },
  {
   "cell_type": "markdown",
   "metadata": {},
   "source": [
    "### Build connection between. Let's assume that two cities are connected if their distance is less than 700 km."
   ]
  },
  {
   "cell_type": "code",
   "execution_count": 36,
   "metadata": {},
   "outputs": [],
   "source": [
    "threshold = 700   # defined the threshold"
   ]
  },
  {
   "cell_type": "code",
   "execution_count": 37,
   "metadata": {},
   "outputs": [],
   "source": [
    "from collections import defaultdict"
   ]
  },
  {
   "cell_type": "code",
   "execution_count": 38,
   "metadata": {},
   "outputs": [],
   "source": [
    "def build_connection(city_info):\n",
    "    cities_connection = defaultdict(list)\n",
    "    cities = list(city_info.keys())\n",
    "    for c1 in cities:\n",
    "        for c2 in cities:\n",
    "            if c1 == c2 : continue\n",
    "            \n",
    "            if get_city_distance(c1,c2) < threshold:\n",
    "                cities_connection[c1].append(c2)\n",
    "    return cities_connection\n",
    "\n",
    "cities_connection = build_connection(city_info)"
   ]
  },
  {
   "cell_type": "code",
   "execution_count": 39,
   "metadata": {},
   "outputs": [
    {
     "data": {
      "text/plain": [
       "defaultdict(list,\n",
       "            {'兰州': ['嘉峪关', '西宁', '成都', '拉萨', '贵阳', '西安', '重庆', '南宁', '银川'],\n",
       "             '嘉峪关': ['兰州', '西宁', '成都', '拉萨'],\n",
       "             '西宁': ['兰州', '嘉峪关', '成都', '拉萨', '贵阳', '重庆', '银川'],\n",
       "             '成都': ['兰州', '嘉峪关', '西宁', '拉萨', '贵阳', '西安', '重庆', '南宁', '银川'],\n",
       "             '石家庄': ['武汉',\n",
       "              '郑州',\n",
       "              '济南',\n",
       "              '南京',\n",
       "              '合肥',\n",
       "              '南昌',\n",
       "              '广州',\n",
       "              '长沙',\n",
       "              '太原',\n",
       "              '西安',\n",
       "              '北京',\n",
       "              '天津',\n",
       "              '呼和浩特'],\n",
       "             '拉萨': ['兰州', '嘉峪关', '西宁', '成都', '贵阳', '重庆', '南宁', '银川'],\n",
       "             '贵阳': ['兰州', '西宁', '成都', '拉萨', '西安', '重庆', '南宁', '银川'],\n",
       "             '武汉': ['石家庄',\n",
       "              '郑州',\n",
       "              '济南',\n",
       "              '南京',\n",
       "              '合肥',\n",
       "              '杭州',\n",
       "              '南昌',\n",
       "              '福州',\n",
       "              '广州',\n",
       "              '长沙',\n",
       "              '太原',\n",
       "              '西安',\n",
       "              '北京',\n",
       "              '天津',\n",
       "              '呼和浩特',\n",
       "              '香港',\n",
       "              '澳门'],\n",
       "             '郑州': ['石家庄',\n",
       "              '武汉',\n",
       "              '济南',\n",
       "              '南京',\n",
       "              '合肥',\n",
       "              '南昌',\n",
       "              '广州',\n",
       "              '长沙',\n",
       "              '太原',\n",
       "              '西安',\n",
       "              '北京',\n",
       "              '天津',\n",
       "              '呼和浩特',\n",
       "              '香港',\n",
       "              '澳门'],\n",
       "             '济南': ['石家庄',\n",
       "              '武汉',\n",
       "              '郑州',\n",
       "              '南京',\n",
       "              '合肥',\n",
       "              '杭州',\n",
       "              '南昌',\n",
       "              '福州',\n",
       "              '长沙',\n",
       "              '太原',\n",
       "              '北京',\n",
       "              '上海',\n",
       "              '天津',\n",
       "              '呼和浩特'],\n",
       "             '南京': ['石家庄',\n",
       "              '武汉',\n",
       "              '郑州',\n",
       "              '济南',\n",
       "              '合肥',\n",
       "              '杭州',\n",
       "              '南昌',\n",
       "              '福州',\n",
       "              '长沙',\n",
       "              '北京',\n",
       "              '上海',\n",
       "              '天津'],\n",
       "             '合肥': ['石家庄',\n",
       "              '武汉',\n",
       "              '郑州',\n",
       "              '济南',\n",
       "              '南京',\n",
       "              '杭州',\n",
       "              '南昌',\n",
       "              '福州',\n",
       "              '广州',\n",
       "              '长沙',\n",
       "              '太原',\n",
       "              '北京',\n",
       "              '上海',\n",
       "              '天津',\n",
       "              '香港',\n",
       "              '澳门'],\n",
       "             '杭州': ['武汉', '济南', '南京', '合肥', '南昌', '福州', '北京', '上海', '天津'],\n",
       "             '南昌': ['石家庄',\n",
       "              '武汉',\n",
       "              '郑州',\n",
       "              '济南',\n",
       "              '南京',\n",
       "              '合肥',\n",
       "              '杭州',\n",
       "              '福州',\n",
       "              '广州',\n",
       "              '长沙',\n",
       "              '太原',\n",
       "              '北京',\n",
       "              '上海',\n",
       "              '天津',\n",
       "              '香港',\n",
       "              '澳门'],\n",
       "             '福州': ['武汉',\n",
       "              '济南',\n",
       "              '南京',\n",
       "              '合肥',\n",
       "              '杭州',\n",
       "              '南昌',\n",
       "              '广州',\n",
       "              '上海',\n",
       "              '香港',\n",
       "              '澳门'],\n",
       "             '广州': ['石家庄',\n",
       "              '武汉',\n",
       "              '郑州',\n",
       "              '合肥',\n",
       "              '南昌',\n",
       "              '福州',\n",
       "              '长沙',\n",
       "              '太原',\n",
       "              '西安',\n",
       "              '南宁',\n",
       "              '香港',\n",
       "              '澳门'],\n",
       "             '长沙': ['石家庄',\n",
       "              '武汉',\n",
       "              '郑州',\n",
       "              '济南',\n",
       "              '南京',\n",
       "              '合肥',\n",
       "              '南昌',\n",
       "              '广州',\n",
       "              '太原',\n",
       "              '西安',\n",
       "              '北京',\n",
       "              '天津',\n",
       "              '呼和浩特',\n",
       "              '南宁',\n",
       "              '香港',\n",
       "              '澳门'],\n",
       "             '沈阳': ['长春', '哈尔滨', '上海'],\n",
       "             '长春': ['沈阳', '哈尔滨'],\n",
       "             '哈尔滨': ['沈阳', '长春'],\n",
       "             '太原': ['石家庄',\n",
       "              '武汉',\n",
       "              '郑州',\n",
       "              '济南',\n",
       "              '合肥',\n",
       "              '南昌',\n",
       "              '广州',\n",
       "              '长沙',\n",
       "              '西安',\n",
       "              '北京',\n",
       "              '天津',\n",
       "              '呼和浩特',\n",
       "              '银川',\n",
       "              '澳门'],\n",
       "             '西安': ['兰州',\n",
       "              '成都',\n",
       "              '石家庄',\n",
       "              '贵阳',\n",
       "              '武汉',\n",
       "              '郑州',\n",
       "              '广州',\n",
       "              '长沙',\n",
       "              '太原',\n",
       "              '重庆',\n",
       "              '呼和浩特',\n",
       "              '南宁',\n",
       "              '银川'],\n",
       "             '北京': ['石家庄',\n",
       "              '武汉',\n",
       "              '郑州',\n",
       "              '济南',\n",
       "              '南京',\n",
       "              '合肥',\n",
       "              '杭州',\n",
       "              '南昌',\n",
       "              '长沙',\n",
       "              '太原',\n",
       "              '天津',\n",
       "              '呼和浩特'],\n",
       "             '上海': ['济南', '南京', '合肥', '杭州', '南昌', '福州', '沈阳', '天津'],\n",
       "             '重庆': ['兰州', '西宁', '成都', '拉萨', '贵阳', '西安', '呼和浩特', '南宁', '银川'],\n",
       "             '天津': ['石家庄',\n",
       "              '武汉',\n",
       "              '郑州',\n",
       "              '济南',\n",
       "              '南京',\n",
       "              '合肥',\n",
       "              '杭州',\n",
       "              '南昌',\n",
       "              '长沙',\n",
       "              '太原',\n",
       "              '北京',\n",
       "              '上海',\n",
       "              '呼和浩特'],\n",
       "             '呼和浩特': ['石家庄',\n",
       "              '武汉',\n",
       "              '郑州',\n",
       "              '济南',\n",
       "              '长沙',\n",
       "              '太原',\n",
       "              '西安',\n",
       "              '北京',\n",
       "              '重庆',\n",
       "              '天津',\n",
       "              '银川'],\n",
       "             '南宁': ['兰州',\n",
       "              '成都',\n",
       "              '拉萨',\n",
       "              '贵阳',\n",
       "              '广州',\n",
       "              '长沙',\n",
       "              '西安',\n",
       "              '重庆',\n",
       "              '银川',\n",
       "              '香港',\n",
       "              '澳门'],\n",
       "             '银川': ['兰州',\n",
       "              '西宁',\n",
       "              '成都',\n",
       "              '拉萨',\n",
       "              '贵阳',\n",
       "              '太原',\n",
       "              '西安',\n",
       "              '重庆',\n",
       "              '呼和浩特',\n",
       "              '南宁'],\n",
       "             '香港': ['武汉', '郑州', '合肥', '南昌', '福州', '广州', '长沙', '南宁', '澳门'],\n",
       "             '澳门': ['武汉',\n",
       "              '郑州',\n",
       "              '合肥',\n",
       "              '南昌',\n",
       "              '福州',\n",
       "              '广州',\n",
       "              '长沙',\n",
       "              '太原',\n",
       "              '南宁',\n",
       "              '香港']})"
      ]
     },
     "execution_count": 39,
     "metadata": {},
     "output_type": "execute_result"
    }
   ],
   "source": [
    "cities_connection"
   ]
  },
  {
   "cell_type": "markdown",
   "metadata": {},
   "source": [
    "### Draw connection graph"
   ]
  },
  {
   "cell_type": "code",
   "execution_count": 40,
   "metadata": {},
   "outputs": [],
   "source": [
    "cities_connection_graph = nx.Graph(cities_connection)"
   ]
  },
  {
   "cell_type": "code",
   "execution_count": 41,
   "metadata": {},
   "outputs": [
    {
     "name": "stderr",
     "output_type": "stream",
     "text": [
      "C:\\Anaconda3\\lib\\site-packages\\networkx\\drawing\\nx_pylab.py:611: MatplotlibDeprecationWarning: isinstance(..., numbers.Number)\n",
      "  if cb.is_numlike(alpha):\n"
     ]
    },
    {
     "data": {
      "image/png": "[encoded data removed]",
      "text/plain": [
       "<Figure size 432x288 with 1 Axes>"
      ]
     },
     "metadata": {},
     "output_type": "display_data"
    }
   ],
   "source": [
    "nx.draw(cities_connection_graph,city_info,with_labels=True,node_size=10)"
   ]
  },
  {
   "cell_type": "markdown",
   "metadata": {},
   "source": [
    "### BFS 1 version"
   ]
  },
  {
   "cell_type": "code",
   "execution_count": 42,
   "metadata": {},
   "outputs": [],
   "source": [
    "def search_1(graph,start,destination):\n",
    "    pathes = [[start]]\n",
    "    visited = set()\n",
    "    \n",
    "    while pathes:\n",
    "        path = pathes.pop(0)\n",
    "        froniter = path[-1]\n",
    "        \n",
    "        if froniter in visited: continue\n",
    "            \n",
    "        successsors = graph[froniter]\n",
    "        \n",
    "        for city in successsors:\n",
    "            if city in path: continue  # check loop\n",
    "            \n",
    "            new_path = path+[city]\n",
    "            \n",
    "            pathes.append(new_path)  #bfs\n",
    "            #pathes = [new_path] + pathes #dfs\n",
    "            \n",
    "            if city == destination:\n",
    "                return new_path\n",
    "        visited.add(froniter)"
   ]
  },
  {
   "cell_type": "code",
   "execution_count": 43,
   "metadata": {},
   "outputs": [
    {
     "data": {
      "text/plain": [
       "['上海', '合肥', '香港']"
      ]
     },
     "execution_count": 43,
     "metadata": {},
     "output_type": "execute_result"
    }
   ],
   "source": [
    "search_1(cities_connection,\"上海\",\"香港\")"
   ]
  },
  {
   "cell_type": "markdown",
   "metadata": {},
   "source": [
    "### Optimal search using variation of BFS"
   ]
  },
  {
   "cell_type": "code",
   "execution_count": 44,
   "metadata": {},
   "outputs": [],
   "source": [
    "def search_2(graph,start,destination,search_strategy):\n",
    "    pathes = [[start]]\n",
    "    #visited = set()\n",
    "    while pathes:\n",
    "        path = pathes.pop(0)\n",
    "        froniter = path[-1]\n",
    "        #if froniter in visited : continue\n",
    "        #if froniter == destination:\n",
    "        #    return path\n",
    "        successsors = graph[froniter]\n",
    "        \n",
    "        for city in successsors:\n",
    "            if city in path: continue  # check loop\n",
    "            \n",
    "            new_path = path+[city]\n",
    "            \n",
    "            pathes.append(new_path)  #bfs\n",
    "            \n",
    "        pathes = search_strategy(pathes)\n",
    "       # visited.add(froniter)\n",
    "        if pathes and (destination == pathes[0][-1]):\n",
    "            return pathes[0]  \n",
    "        "
   ]
  },
  {
   "cell_type": "code",
   "execution_count": 45,
   "metadata": {},
   "outputs": [],
   "source": [
    "def sort_by_distance(pathes):\n",
    "    def get_distance_of_path(path):\n",
    "        distance = 0\n",
    "        for i,_ in enumerate(path[:-1]):\n",
    "            distance += get_city_distance(path[i],path[i+1])\n",
    "        return distance\n",
    "    return sorted(pathes,key=get_distance_of_path)\n"
   ]
  },
  {
   "cell_type": "code",
   "execution_count": 46,
   "metadata": {},
   "outputs": [],
   "source": [
    "def get_distance_of_path(path):\n",
    "    distance = 0\n",
    "    for i,_ in enumerate(path[:-1]):\n",
    "        distance += get_city_distance(path[i],path[i+1])\n",
    "    return distance"
   ]
  },
  {
   "cell_type": "code",
   "execution_count": 47,
   "metadata": {},
   "outputs": [
    {
     "data": {
      "text/plain": [
       "752.66259009181"
      ]
     },
     "execution_count": 47,
     "metadata": {},
     "output_type": "execute_result"
    }
   ],
   "source": [
    "get_distance_of_path([\"北京\",\"济南\",\"上海\"])"
   ]
  },
  {
   "cell_type": "code",
   "execution_count": 48,
   "metadata": {},
   "outputs": [
    {
     "data": {
      "text/plain": [
       "732.5085345714293"
      ]
     },
     "execution_count": 48,
     "metadata": {},
     "output_type": "execute_result"
    }
   ],
   "source": [
    "get_distance_of_path([\"北京\",\"天津\",\"上海\"])"
   ]
  },
  {
   "cell_type": "code",
   "execution_count": 49,
   "metadata": {},
   "outputs": [
    {
     "data": {
      "text/plain": [
       "['北京', '济南', '上海']"
      ]
     },
     "execution_count": 49,
     "metadata": {},
     "output_type": "execute_result"
    }
   ],
   "source": [
    "search_2(cities_connection,\"北京\",\"上海\",search_strategy=lambda x:x)"
   ]
  },
  {
   "cell_type": "code",
   "execution_count": 50,
   "metadata": {},
   "outputs": [
    {
     "data": {
      "text/plain": [
       "['北京', '天津', '上海']"
      ]
     },
     "execution_count": 50,
     "metadata": {},
     "output_type": "execute_result"
    }
   ],
   "source": [
    "search_2(cities_connection,\"北京\",\"上海\",search_strategy=sort_by_distance)"
   ]
  },
  {
   "cell_type": "markdown",
   "metadata": {},
   "source": [
    "# AI for NLP Lecture 1 Part 2"
   ]
  },
  {
   "cell_type": "markdown",
   "metadata": {},
   "source": [
    "## Machine Learning"
   ]
  },
  {
   "cell_type": "code",
   "execution_count": 51,
   "metadata": {},
   "outputs": [],
   "source": [
    "from sklearn.datasets import load_boston\n",
    "import random"
   ]
  },
  {
   "cell_type": "code",
   "execution_count": 52,
   "metadata": {},
   "outputs": [],
   "source": [
    "dataset = load_boston()"
   ]
  },
  {
   "cell_type": "code",
   "execution_count": 53,
   "metadata": {},
   "outputs": [],
   "source": [
    "#dataset"
   ]
  },
  {
   "cell_type": "code",
   "execution_count": 54,
   "metadata": {},
   "outputs": [],
   "source": [
    "x,y=dataset['data'],dataset['target']"
   ]
  },
  {
   "cell_type": "code",
   "execution_count": 55,
   "metadata": {},
   "outputs": [
    {
     "data": {
      "text/plain": [
       "(506, 13)"
      ]
     },
     "execution_count": 55,
     "metadata": {},
     "output_type": "execute_result"
    }
   ],
   "source": [
    "x.shape"
   ]
  },
  {
   "cell_type": "code",
   "execution_count": 56,
   "metadata": {},
   "outputs": [
    {
     "data": {
      "text/plain": [
       "(506,)"
      ]
     },
     "execution_count": 56,
     "metadata": {},
     "output_type": "execute_result"
    }
   ],
   "source": [
    "y.shape"
   ]
  },
  {
   "cell_type": "code",
   "execution_count": 57,
   "metadata": {},
   "outputs": [
    {
     "data": {
      "text/plain": [
       "array([2.7310e-02, 0.0000e+00, 7.0700e+00, 0.0000e+00, 4.6900e-01,\n",
       "       6.4210e+00, 7.8900e+01, 4.9671e+00, 2.0000e+00, 2.4200e+02,\n",
       "       1.7800e+01, 3.9690e+02, 9.1400e+00])"
      ]
     },
     "execution_count": 57,
     "metadata": {},
     "output_type": "execute_result"
    }
   ],
   "source": [
    "x[1].shape\n",
    "x[1]"
   ]
  },
  {
   "cell_type": "code",
   "execution_count": 58,
   "metadata": {},
   "outputs": [
    {
     "data": {
      "text/plain": [
       "array(['CRIM', 'ZN', 'INDUS', 'CHAS', 'NOX', 'RM', 'AGE', 'DIS', 'RAD',\n",
       "       'TAX', 'PTRATIO', 'B', 'LSTAT'], dtype='<U7')"
      ]
     },
     "execution_count": 58,
     "metadata": {},
     "output_type": "execute_result"
    }
   ],
   "source": [
    "dataset.feature_names"
   ]
  },
  {
   "cell_type": "code",
   "execution_count": 59,
   "metadata": {},
   "outputs": [
    {
     "data": {
      "text/plain": [
       "\".. _boston_dataset:\\n\\nBoston house prices dataset\\n---------------------------\\n\\n**Data Set Characteristics:**  \\n\\n    :Number of Instances: 506 \\n\\n    :Number of Attributes: 13 numeric/categorical predictive. Median Value (attribute 14) is usually the target.\\n\\n    :Attribute Information (in order):\\n        - CRIM     per capita crime rate by town\\n        - ZN       proportion of residential land zoned for lots over 25,000 sq.ft.\\n        - INDUS    proportion of non-retail business acres per town\\n        - CHAS     Charles River dummy variable (= 1 if tract bounds river; 0 otherwise)\\n        - NOX      nitric oxides concentration (parts per 10 million)\\n        - RM       average number of rooms per dwelling\\n        - AGE      proportion of owner-occupied units built prior to 1940\\n        - DIS      weighted distances to five Boston employment centres\\n        - RAD      index of accessibility to radial highways\\n        - TAX      full-value property-tax rate per $10,000\\n        - PTRATIO  pupil-teacher ratio by town\\n        - B        1000(Bk - 0.63)^2 where Bk is the proportion of blacks by town\\n        - LSTAT    % lower status of the population\\n        - MEDV     Median value of owner-occupied homes in $1000's\\n\\n    :Missing Attribute Values: None\\n\\n    :Creator: Harrison, D. and Rubinfeld, D.L.\\n\\nThis is a copy of UCI ML housing dataset.\\nhttps://archive.ics.uci.edu/ml/machine-learning-databases/housing/\\n\\n\\nThis dataset was taken from the StatLib library which is maintained at Carnegie Mellon University.\\n\\nThe Boston house-price data of Harrison, D. and Rubinfeld, D.L. 'Hedonic\\nprices and the demand for clean air', J. Environ. Economics & Management,\\nvol.5, 81-102, 1978.   Used in Belsley, Kuh & Welsch, 'Regression diagnostics\\n...', Wiley, 1980.   N.B. Various transformations are used in the table on\\npages 244-261 of the latter.\\n\\nThe Boston house-price data has been used in many machine learning papers that address regression\\nproblems.   \\n     \\n.. topic:: References\\n\\n   - Belsley, Kuh & Welsch, 'Regression diagnostics: Identifying Influential Data and Sources of Collinearity', Wiley, 1980. 244-261.\\n   - Quinlan,R. (1993). Combining Instance-Based and Model-Based Learning. In Proceedings on the Tenth International Conference of Machine Learning, 236-243, University of Massachusetts, Amherst. Morgan Kaufmann.\\n\""
      ]
     },
     "execution_count": 59,
     "metadata": {},
     "output_type": "execute_result"
    }
   ],
   "source": [
    "dataset['DESCR']"
   ]
  },
  {
   "cell_type": "code",
   "execution_count": 60,
   "metadata": {},
   "outputs": [],
   "source": [
    "X_rm = x[:,5]"
   ]
  },
  {
   "cell_type": "code",
   "execution_count": 61,
   "metadata": {},
   "outputs": [
    {
     "data": {
      "text/plain": [
       "<matplotlib.collections.PathCollection at 0x1e7dd6161d0>"
      ]
     },
     "execution_count": 61,
     "metadata": {},
     "output_type": "execute_result"
    },
    {
     "data": {
      "image/png": "[encoded data removed]",
      "text/plain": [
       "<Figure size 432x288 with 1 Axes>"
      ]
     },
     "metadata": {
      "needs_background": "light"
     },
     "output_type": "display_data"
    }
   ],
   "source": [
    "# plot the RM with respect to y\n",
    "plt.scatter(X_rm,y)"
   ]
  },
  {
   "cell_type": "markdown",
   "metadata": {},
   "source": [
    "### Gradient descent"
   ]
  },
  {
   "cell_type": "markdown",
   "metadata": {},
   "source": [
    "### Assume that the target funciton is a linear function\n",
    "$$ y = k*rm + b$$"
   ]
  },
  {
   "cell_type": "code",
   "execution_count": 62,
   "metadata": {},
   "outputs": [],
   "source": [
    "#define target function\n",
    "def price(rm, k, b):\n",
    "    return k * rm + b"
   ]
  },
  {
   "cell_type": "markdown",
   "metadata": {},
   "source": [
    "### Define mean square loss"
   ]
  },
  {
   "cell_type": "markdown",
   "metadata": {},
   "source": [
    "$$ loss = \\frac{1}{n} \\sum{(y_i - \\hat{y_i})}^2$$"
   ]
  },
  {
   "cell_type": "markdown",
   "metadata": {},
   "source": [
    "$$ loss = \\frac{1}{n} \\sum{(y_i - (kx_i + b_i))}^2 $$"
   ]
  },
  {
   "cell_type": "code",
   "execution_count": 63,
   "metadata": {},
   "outputs": [],
   "source": [
    "# define loss function \n",
    "def loss(y,y_hat):\n",
    "    return sum((y_i - y_hat_i)**2 for y_i, y_hat_i in zip(list(y),list(y_hat)))/len(list(y))"
   ]
  },
  {
   "cell_type": "markdown",
   "metadata": {},
   "source": [
    "### Define partial derivatives"
   ]
  },
  {
   "cell_type": "markdown",
   "metadata": {},
   "source": [
    "$$ \\frac{\\partial{loss}}{\\partial{k}} = -\\frac{2}{n}\\sum(y_i - \\hat{y_i})x_i$$\n"
   ]
  },
  {
   "cell_type": "markdown",
   "metadata": {},
   "source": [
    "$$ \\frac{\\partial{loss}}{\\partial{b}} = -\\frac{2}{n}\\sum(y_i - \\hat{y_i})$$"
   ]
  },
  {
   "cell_type": "code",
   "execution_count": 64,
   "metadata": {},
   "outputs": [],
   "source": [
    "# define partial derivative \n",
    "def partial_derivative_k(x, y, y_hat):\n",
    "    n = len(y)\n",
    "    gradient = 0\n",
    "    for x_i, y_i, y_hat_i in zip(list(x),list(y),list(y_hat)):\n",
    "        gradient += (y_i-y_hat_i) * x_i\n",
    "    return -2/n * gradient\n",
    "\n",
    "def partial_derivative_b(y, y_hat):\n",
    "    n = len(y)\n",
    "    gradient = 0\n",
    "    for y_i, y_hat_i in zip(list(y),list(y_hat)):\n",
    "        gradient += (y_i-y_hat_i)\n",
    "    return -2 / n * gradient"
   ]
  },
  {
   "cell_type": "code",
   "execution_count": 65,
   "metadata": {},
   "outputs": [
    {
     "name": "stdout",
     "output_type": "stream",
     "text": [
      "Iteration 0, the loss is 343926.94980323, parameters k is 95.36897163664736 and b is 6.454688108641719\n",
      "Iteration 1, the loss is 289872.4167221767, parameters k is 87.9525494301265 and b is 5.288126107804556\n",
      "Iteration 2, the loss is 244314.85871966378, parameters k is 81.14394548489334 and b is 4.217116235029508\n",
      "Iteration 3, the loss is 205918.61379026095, parameters k is 74.89334629707284 and b is 3.2338275549681526\n",
      "Iteration 4, the loss is 173557.97617488043, parameters k is 69.15502080867283 and b is 2.3310709134615792\n",
      "Iteration 5, the loss is 146284.19278262596, parameters k is 63.88698583235663 and b is 1.5022463406184507\n",
      "Iteration 6, the loss is 123297.64753245973, parameters k is 59.0506988961952 and b is 0.7412947644528666\n",
      "Iteration 7, the loss is 103924.41811183188, parameters k is 54.61077626120546 and b is 0.04265368181181295\n",
      "Iteration 8, the loss is 87596.51784048184, parameters k is 50.534734048648936 and b is -0.5987835377258821\n",
      "Iteration 9, the loss is 73835.24336796952, parameters k is 46.792750583139664 and b is -1.1877050127178408\n",
      "Iteration 10, the loss is 62237.13999071406, parameters k is 43.357448212828054 and b is -1.7284146488313326\n",
      "Iteration 11, the loss is 52462.17311799922, parameters k is 40.20369301042476 and b is -2.2248636268577746\n",
      "Iteration 12, the loss is 44223.75909654841, parameters k is 37.30841088964741 and b is -2.6806793101395368\n",
      "Iteration 13, the loss is 37280.36311617615, parameters k is 34.650418791770775 and b is -3.0991917829000917\n",
      "Iteration 14, the loss is 31428.417862890805, parameters k is 32.21026970721597 and b is -3.483458213635876\n",
      "Iteration 15, the loss is 26496.355307662114, parameters k is 29.97011039833371 and b is -3.8362852218160723\n",
      "Iteration 16, the loss is 22339.57665411054, parameters k is 27.913550782460135 and b is -4.160249411528413\n",
      "Iteration 17, the loss is 18836.21297343558, parameters k is 26.025544019632395 and b is -4.457716222298213\n",
      "Iteration 18, the loss is 15883.552236361127, parameters k is 24.292276427667726 and b is -4.730857234996034\n",
      "Iteration 19, the loss is 13395.027989387989, parameters k is 22.701066419208413 and b is -4.981666059446572\n",
      "Iteration 20, the loss is 11297.681388997642, parameters k is 21.240271721341006 and b is -5.211972919974885\n",
      "Iteration 21, the loss is 9530.022185417834, parameters k is 19.899204198994735 and b is -5.423458045599984\n",
      "Iteration 22, the loss is 8040.225944012406, parameters k is 18.66805165895436 and b is -5.617663962840438\n",
      "Iteration 23, the loss is 6784.6146502131905, parameters k is 17.53780606239408 and b is -5.796006781067984\n",
      "Iteration 24, the loss is 5726.376152184574, parameters k is 16.500197620724595 and b is -5.959786552974483\n",
      "Iteration 25, the loss is 4834.484897685582, parameters k is 15.547634292588846 and b is -6.110196785950925\n",
      "Iteration 26, the loss is 4082.792323161543, parameters k is 14.673146239357337 and b is -6.248333173965149\n",
      "Iteration 27, the loss is 3449.2602269823424, parameters k is 13.870334832751265 and b is -6.37520161382201\n",
      "Iteration 28, the loss is 2915.3146507706983, parameters k is 13.133325841525583 and b is -6.491725564454128\n",
      "Iteration 29, the loss is 2465.301325834876, parameters k is 12.456726454718824 and b is -6.598752803084893\n",
      "Iteration 30, the loss is 2086.026719418104, parameters k is 11.835585827045378 and b is -6.697061627692823\n",
      "Iteration 31, the loss is 1766.371225103024, parameters k is 11.265358857774443 and b is -6.787366551155421\n",
      "Iteration 32, the loss is 1496.9631568403797, parameters k is 10.741872938096535 and b is -6.870323528731744\n",
      "Iteration 33, the loss is 1269.9039887193398, parameters k is 10.261297423696337 and b is -6.946534757128709\n",
      "Iteration 34, the loss is 1078.536785025636, parameters k is 9.820115609188695 and b is -7.0165530802618425\n",
      "Iteration 35, the loss is 917.2510313918935, parameters k is 9.415098999378548 and b is -7.080886033943652\n",
      "Iteration 36, the loss is 781.318145056061, parameters k is 9.043283689109517 and b is -7.139999559091175\n",
      "Iteration 37, the loss is 666.7528416977634, parameters k is 8.701948678892599 and b is -7.194321410619081\n",
      "Iteration 38, the loss is 570.196294388623, parameters k is 8.388595967668882 and b is -7.2442442869583\n",
      "Iteration 39, the loss is 488.81765909647964, parameters k is 8.100932277061968 and b is -7.290128703096187\n",
      "Iteration 40, the loss is 420.23107965628105, parameters k is 7.836852273412006 and b is -7.332305628157836\n",
      "Iteration 41, the loss is 362.4257389492973, parameters k is 7.594423164841263 and b is -7.371078906825461\n",
      "Iteration 42, the loss is 313.7069055226439, parameters k is 7.371870560661043 and b is -7.406727482311313\n",
      "Iteration 43, the loss is 272.6462472467363, parameters k is 7.167565489665289 and b is -7.439507437147742\n",
      "Iteration 44, the loss is 238.03995530046132, parameters k is 6.980012482334763 and b is -7.4696538667251176\n",
      "Iteration 45, the loss is 208.87345075796847, parameters k is 6.80783862975944 and b is -7.497382599284697\n",
      "Iteration 46, the loss is 184.29163904051282, parameters k is 6.649783539232567 and b is -7.522891774950162\n",
      "Iteration 47, the loss is 163.57384014975216, parameters k is 6.504690113030002 and b is -7.546363295350254\n",
      "Iteration 48, the loss is 146.11265968403848, parameters k is 6.371496082911034 and b is -7.5679641544381635\n",
      "Iteration 49, the loss is 131.39618117558734, parameters k is 6.24922623840581 and b is -7.587847660244146\n",
      "Iteration 50, the loss is 118.99295766130903, parameters k is 6.136985292030376 and b is -7.606154556499888\n",
      "Iteration 51, the loss is 108.5393624683503, parameters k is 6.033951329230182 and b is -7.623014052340599\n",
      "Iteration 52, the loss is 99.72892836314105, parameters k is 5.939369795130855 and b is -7.638544767618271\n",
      "Iteration 53, the loss is 92.30336250782284, parameters k is 5.852547974102419 and b is -7.652855600742169\n",
      "Iteration 54, the loss is 86.04497379946207, parameters k is 5.77284992174864 and b is -7.666046525395803\n",
      "Iteration 55, the loss is 80.7702905758584, parameters k is 5.699691812243157 and b is -7.678209321959275\n",
      "Iteration 56, the loss is 76.3246815710706, parameters k is 5.632537666972833 and b is -7.689428248988197\n",
      "Iteration 57, the loss is 72.57782241718424, parameters k is 5.57089543323844 and b is -7.699780659661823\n",
      "Iteration 58, the loss is 69.4198747786665, parameters k is 5.514313384323872 and b is -7.709337567710421\n",
      "Iteration 59, the loss is 66.75826609870614, parameters k is 5.462376814596243 and b is -7.71816416696229\n",
      "Iteration 60, the loss is 64.51497554575126, parameters k is 5.414705005457751 and b is -7.7263203083115135\n",
      "Iteration 61, the loss is 62.624246589294835, parameters k is 5.370948439951746 and b is -7.733860937596\n",
      "Iteration 62, the loss is 61.030659141928105, parameters k is 5.330786245644647 and b is -7.740836497589415\n",
      "Iteration 63, the loss is 59.68750474648743, parameters k is 5.293923847075453 and b is -7.7472932970480155\n",
      "Iteration 64, the loss is 58.5554171718356, parameters k is 5.260090810597827 and b is -7.753273849512402\n",
      "Iteration 65, the loss is 57.60121826891632, parameters k is 5.229038865847282 and b is -7.758817184342908\n",
      "Iteration 66, the loss is 56.796945249750785, parameters k is 5.200540089358237 and b is -7.763959132264206\n",
      "Iteration 67, the loss is 56.11903087102463, parameters k is 5.174385237042021 and b is -7.768732587508221\n",
      "Iteration 68, the loss is 55.54761248678608, parameters k is 5.1503822133259645 and b is -7.773167748473222\n",
      "Iteration 69, the loss is 55.06594971297989, parameters k is 5.128354665753605 and b is -7.777292338659801\n",
      "Iteration 70, the loss is 54.65993363083484, parameters k is 5.1081406947638595 and b is -7.781131809500122\n",
      "Iteration 71, the loss is 54.317673139869584, parameters k is 5.089591669209739 and b is -7.784709526564389\n",
      "Iteration 72, the loss is 54.029146333165144, parameters k is 5.0725711389507495 and b is -7.788046940506828\n",
      "Iteration 73, the loss is 53.78590667388027, parameters k is 5.056953836563356 and b is -7.79116374400187\n",
      "Iteration 74, the loss is 53.58083535865924, parameters k is 5.042624760865865 and b is -7.794078015818678\n",
      "Iteration 75, the loss is 53.40793260769006, parameters k is 5.029478335552658 and b is -7.796806353088117\n",
      "Iteration 76, the loss is 53.262141762431575, parameters k is 5.017417636782226 and b is -7.7993639927298295\n",
      "Iteration 77, the loss is 53.13920103388455, parameters k is 5.006353684067919 and b is -7.801764922927802\n",
      "Iteration 78, the loss is 53.03551855494388, parameters k is 4.996204789283455 and b is -7.804021985470002\n",
      "Iteration 79, the loss is 52.94806707360268, parameters k is 4.986895959020436 and b is -7.806146969700806\n",
      "Iteration 80, the loss is 52.87429519961072, parameters k is 4.978358345925402 and b is -7.808150698773594\n",
      "Iteration 81, the loss is 52.81205260250482, parameters k is 4.9705287450023485 and b is -7.8100431088345506\n",
      "Iteration 82, the loss is 52.75952696795946, parameters k is 4.9633491311955655 and b is -7.811833321716985\n",
      "Iteration 83, the loss is 52.71519086413534, parameters k is 4.9567662348696935 and b is -7.813529711678018\n",
      "Iteration 84, the loss is 52.67775696024701, parameters k is 4.950731152081139 and b is -7.815139966665893\n",
      "Iteration 85, the loss is 52.64614028444302, parameters k is 4.945198986789547 and b is -7.816671144566146\n",
      "Iteration 86, the loss is 52.61942641446898, parameters k is 4.940128522391686 and b is -7.818129724838142\n",
      "Iteration 87, the loss is 52.596844668525385, parameters k is 4.935481920174638 and b is -7.819521655919765\n",
      "Iteration 88, the loss is 52.57774551032432, parameters k is 4.931224442482149 and b is -7.820852398747069\n",
      "Iteration 89, the loss is 52.561581505906766, parameters k is 4.927324198568761 and b is -7.822126966707299\n",
      "Iteration 90, the loss is 52.547891273906295, parameters k is 4.923751911282371 and b is -7.823349962317574\n",
      "Iteration 91, the loss is 52.536285958715, parameters k is 4.920480702868227 and b is -7.824525610897586\n",
      "Iteration 92, the loss is 52.52643782996691, parameters k is 4.917485898327278 and b is -7.825657791482663\n",
      "Iteration 93, the loss is 52.51807067409976, parameters k is 4.914744844890199 and b is -7.826750065203367\n",
      "Iteration 94, the loss is 52.51095169629223, parameters k is 4.912236746286369 and b is -7.827805701339252\n",
      "Iteration 95, the loss is 52.50488469535704, parameters k is 4.909942510595247 and b is -7.828827701237401\n",
      "Iteration 96, the loss is 52.49970431149065, parameters k is 4.90784461056705 and b is -7.829818820270719\n",
      "Iteration 97, the loss is 52.495271178234724, parameters k is 4.905926955390777 and b is -7.830781587996654\n",
      "Iteration 98, the loss is 52.49146783651334, parameters k is 4.904174772971444 and b is -7.831718326663809\n",
      "Iteration 99, the loss is 52.48819529095328, parameters k is 4.902574501855237 and b is -7.832631168201859\n",
      "Iteration 100, the loss is 52.48537010752622, parameters k is 4.901113692011894 and b is -7.83352206981906\n",
      "Iteration 101, the loss is 52.48292196741919, parameters k is 4.899780913748434 and b is -7.834392828321478\n",
      "Iteration 102, the loss is 52.48079160541965, parameters k is 4.898565674087821 and b is -7.83524509325868\n",
      "Iteration 103, the loss is 52.47892907237031, parameters k is 4.897458340000778 and b is -7.836080378992088\n",
      "Iteration 104, the loss is 52.47729227075423, parameters k is 4.8964500679291145 and b is -7.836900075774266\n",
      "Iteration 105, the loss is 52.475845720474325, parameters k is 4.895532739084935 and b is -7.837705459920213\n",
      "Iteration 106, the loss is 52.47455951864365, parameters k is 4.89469890005238 and b is -7.83849770314507\n",
      "Iteration 107, the loss is 52.473408462889154, parameters k is 4.8939417082573256 and b is -7.839277881136563\n",
      "Iteration 108, the loss is 52.47237131246547, parameters k is 4.89325488190609 and b is -7.840046981424886\n",
      "Iteration 109, the loss is 52.47143016551587, parameters k is 4.892632654026898 and b is -7.8408059106076236\n",
      "Iteration 110, the loss is 52.470569934223846, parameters k is 4.892069730277856 and b is -7.841555500982542\n",
      "Iteration 111, the loss is 52.46977790246651, parameters k is 4.8915612502127575 and b is -7.84229651663681\n",
      "Iteration 112, the loss is 52.469043353001815, parameters k is 4.891102751721333 and b is -7.843029659037164\n",
      "Iteration 113, the loss is 52.468357253259214, parameters k is 4.890690138383793 and b is -7.843755572161946\n",
      "Iteration 114, the loss is 52.46771199052175, parameters k is 4.890319649500802 and b is -7.844474847212539\n",
      "Iteration 115, the loss is 52.46710114873544, parameters k is 4.88998783257965 and b is -7.845188026938683\n",
      "Iteration 116, the loss is 52.46651932040244, parameters k is 4.889691518075296 and b is -7.8458956096093075\n",
      "Iteration 117, the loss is 52.46596194804399, parameters k is 4.889427796201504 and b is -7.846598052657944\n",
      "Iteration 118, the loss is 52.465425190583034, parameters k is 4.88919399564242 and b is -7.84729577602937\n",
      "Iteration 119, the loss is 52.46490581073165, parameters k is 4.888987664008818 and b is -7.8479891652519855\n",
      "Iteration 120, the loss is 52.46440108007944, parameters k is 4.888806549896063 and b is -7.848678574258397\n",
      "Iteration 121, the loss is 52.46390869910201, parameters k is 4.888648586412494 and b is -7.8493643279748335\n",
      "Iteration 122, the loss is 52.46342672974309, parameters k is 4.888511876057739 and b is -7.850046724698355\n",
      "Iteration 123, the loss is 52.462953538594526, parameters k is 4.888394676840317 and b is -7.850726038279237\n",
      "Iteration 124, the loss is 52.46248774900761, parameters k is 4.888295389532972 and b is -7.851402520124494\n",
      "Iteration 125, the loss is 52.462028200732796, parameters k is 4.888212545972485 and b is -7.852076401037208\n",
      "Iteration 126, the loss is 52.46157391590271, parameters k is 4.888144798318375 and b is -7.852747892905119\n",
      "Iteration 127, the loss is 52.46112407036378, parameters k is 4.888090909191894 and b is -7.85341719025082\n",
      "Iteration 128, the loss is 52.46067796951283, parameters k is 4.888049742623185 and b is -7.8540844716549145\n",
      "Iteration 129, the loss is 52.460235027933294, parameters k is 4.888020255740349 and b is -7.854749901062535\n",
      "Iteration 130, the loss is 52.459794752231375, parameters k is 4.888001491139646 and b is -7.855413628982784\n",
      "Iteration 131, the loss is 52.45935672657129, parameters k is 4.887992569880984 and b is -7.856075793589882\n",
      "Iteration 132, the loss is 52.45892060048317, parameters k is 4.8879926850574575 and b is -7.856736521734069\n",
      "Iteration 133, the loss is 52.458486078588464, parameters k is 4.888001095891904 and b is -7.857395929869652\n",
      "Iteration 134, the loss is 52.458052911939646, parameters k is 4.888017122317262 and b is -7.858054124907002\n",
      "Iteration 135, the loss is 52.45762089072189, parameters k is 4.888040140001098 and b is -7.858711204994726\n",
      "Iteration 136, the loss is 52.457189838101556, parameters k is 4.8880695757779025 and b is -7.859367260237728\n",
      "Iteration 137, the loss is 52.45675960504164, parameters k is 4.88810490345572 and b is -7.8600223733564345\n",
      "Iteration 138, the loss is 52.45633006593271, parameters k is 4.888145639966454 and b is -7.860676620291982\n",
      "Iteration 139, the loss is 52.4559011149099, parameters k is 4.888191341831663 and b is -7.86133007076181\n",
      "Iteration 140, the loss is 52.45547266274942, parameters k is 4.888241601918014 and b is -7.861982788769726\n",
      "Iteration 141, the loss is 52.45504463425267, parameters k is 4.888296046458626 and b is -7.862634833074161\n",
      "Iteration 142, the loss is 52.454616966041634, parameters k is 4.8883543323185386 and b is -7.86328625761805\n",
      "Iteration 143, the loss is 52.45418960470055, parameters k is 4.888416144484287 and b is -7.863937111923491\n",
      "Iteration 144, the loss is 52.453762505210044, parameters k is 4.888481193759213 and b is -7.864587441454046\n",
      "Iteration 145, the loss is 52.45333562962749, parameters k is 4.888549214647661 and b is -7.86523728794736\n",
      "Iteration 146, the loss is 52.45290894597439, parameters k is 4.8886199634125695 and b is -7.865886689720516\n",
      "Iteration 147, the loss is 52.452482427298754, parameters k is 4.888693216292259 and b is -7.866535681950368\n",
      "Iteration 148, the loss is 52.45205605088493, parameters k is 4.88876876786335 and b is -7.867184296930893\n",
      "Iteration 149, the loss is 52.45162979758826, parameters k is 4.888846429537861 and b is -7.86783256430946\n",
      "Iteration 150, the loss is 52.45120365127304, parameters k is 4.88892602818347 and b is -7.868480511303732\n",
      "Iteration 151, the loss is 52.450777598339975, parameters k is 4.889007404856849 and b is -7.869128162900785\n",
      "Iteration 152, the loss is 52.450351627327166, parameters k is 4.88909041364081 and b is -7.869775542039924\n",
      "Iteration 153, the loss is 52.449925728574414, parameters k is 4.889174920576758 and b is -7.870422669780501\n",
      "Iteration 154, the loss is 52.44949989393983, parameters k is 4.889260802684623 and b is -7.871069565455988\n",
      "Iteration 155, the loss is 52.44907411656122, parameters k is 4.889347947063126 and b is -7.871716246815421\n",
      "Iteration 156, the loss is 52.44864839065494, parameters k is 4.889436250063769 and b is -7.87236273015325\n",
      "Iteration 157, the loss is 52.448222711346304, parameters k is 4.889525616532532 and b is -7.873009030428552\n",
      "Iteration 158, the loss is 52.44779707452671, parameters k is 4.8896159591137085 and b is -7.873655161374469\n",
      "Iteration 159, the loss is 52.44737147673342, parameters k is 4.889707197610801 and b is -7.874301135598679\n",
      "Iteration 160, the loss is 52.44694591504757, parameters k is 4.889799258399787 and b is -7.874946964675633\n",
      "Iteration 161, the loss is 52.446520387009144, parameters k is 4.8898920738904765 and b is -7.875592659231233\n",
      "Iteration 162, the loss is 52.446094890544806, parameters k is 4.889985582032011 and b is -7.876238229020571\n",
      "Iteration 163, the loss is 52.445669423906686, parameters k is 4.890079725858892 and b is -7.876883682999295\n",
      "Iteration 164, the loss is 52.445243985621595, parameters k is 4.890174453074209 and b is -7.877529029389124\n",
      "Iteration 165, the loss is 52.4448185744479, parameters k is 4.89026971566703 and b is -7.8781742757380036\n",
      "Iteration 166, the loss is 52.44439318933886, parameters k is 4.890365469561142 and b is -7.878819428975318\n",
      "Iteration 167, the loss is 52.443967829412166, parameters k is 4.890461674292589 and b is -7.87946449546259\n",
      "Iteration 168, the loss is 52.44354249392406, parameters k is 4.890558292713624 and b is -7.880109481040013\n",
      "Iteration 169, the loss is 52.4431171822475, parameters k is 4.890655290720936 and b is -7.880754391069185\n",
      "Iteration 170, the loss is 52.442691893853926, parameters k is 4.89075263700614 and b is -7.881399230472322\n",
      "Iteration 171, the loss is 52.44226662829753, parameters k is 4.890850302826724 and b is -7.882044003768277\n",
      "Iteration 172, the loss is 52.441841385202714, parameters k is 4.89094826179576 and b is -7.882688715105588\n",
      "Iteration 173, the loss is 52.441416164252544, parameters k is 4.891046489688857 and b is -7.883333368292836\n",
      "Iteration 174, the loss is 52.44099096517984, parameters k is 4.891144964266927 and b is -7.883977966826499\n",
      "Iteration 175, the loss is 52.44056578775919, parameters k is 4.8912436651134845 and b is -7.884622513916534\n",
      "Iteration 176, the loss is 52.44014063180056, parameters k is 4.8913425734852725 and b is -7.885267012509857\n",
      "Iteration 177, the loss is 52.439715497143595, parameters k is 4.891441672175135 and b is -7.885911465311903\n",
      "Iteration 178, the loss is 52.43929038365294, parameters k is 4.891540945386126 and b is -7.886555874806413\n",
      "Iteration 179, the loss is 52.43886529121445, parameters k is 4.8916403786159375 and b is -7.887200243273604\n",
      "Iteration 180, the loss is 52.438440219731774, parameters k is 4.891739958550798 and b is -7.887844572806852\n",
      "Iteration 181, the loss is 52.43801516912339, parameters k is 4.891839672968064 and b is -7.888488865327999\n",
      "Iteration 182, the loss is 52.437590139320605, parameters k is 4.891939510646799 and b is -7.889133122601415\n",
      "Iteration 183, the loss is 52.437165130265356, parameters k is 4.89203946128568 and b is -7.889777346246903\n",
      "Iteration 184, the loss is 52.43674014190848, parameters k is 4.892139515427628 and b is -7.890421537751544\n",
      "Iteration 185, the loss is 52.43631517420836, parameters k is 4.89223966439062 and b is -7.891065698480577\n",
      "Iteration 186, the loss is 52.435890227129875, parameters k is 4.8923399002041705 and b is -7.891709829687385\n",
      "Iteration 187, the loss is 52.435465300643266, parameters k is 4.892440215551017 and b is -7.892353932522662\n",
      "Iteration 188, the loss is 52.43504039472324, parameters k is 4.8925406037135835 and b is -7.892998008042825\n",
      "Iteration 189, the loss is 52.43461550934822, parameters k is 4.892641058524837 and b is -7.893642057217744\n",
      "Iteration 190, the loss is 52.43419064450014, parameters k is 4.892741574323165 and b is -7.894286080937836\n",
      "Iteration 191, the loss is 52.433765800163386, parameters k is 4.892842145910954 and b is -7.894930080020573\n",
      "Iteration 192, the loss is 52.43334097632471, parameters k is 4.8929427685165665 and b is -7.895574055216462\n",
      "Iteration 193, the loss is 52.43291617297292, parameters k is 4.893043437759425 and b is -7.896218007214535\n",
      "Iteration 194, the loss is 52.43249139009812, parameters k is 4.893144149617965 and b is -7.896861936647382\n",
      "Iteration 195, the loss is 52.4320666276922, parameters k is 4.893244900400214 and b is -7.897505844095782\n",
      "Iteration 196, the loss is 52.431641885747766, parameters k is 4.893345686716779 and b is -7.898149730092947\n",
      "Iteration 197, the loss is 52.431217164258854, parameters k is 4.893446505456045 and b is -7.898793595128419\n",
      "Iteration 198, the loss is 52.43079246321998, parameters k is 4.8935473537614165 and b is -7.899437439651652\n",
      "Iteration 199, the loss is 52.430367782626426, parameters k is 4.893648229010412 and b is -7.900081264075293\n"
     ]
    }
   ],
   "source": [
    "#initialized parameters\n",
    "\n",
    "k = random.random() * 200 - 100  # -100 100\n",
    "b = random.random() * 200 - 100  # -100 100\n",
    "\n",
    "learning_rate = 1e-3\n",
    "\n",
    "iteration_num = 200 \n",
    "losses = []\n",
    "for i in range(iteration_num):\n",
    "    \n",
    "    price_use_current_parameters = [price(r, k, b) for r in X_rm]  # \\hat{y}\n",
    "    \n",
    "    current_loss = loss(y, price_use_current_parameters)\n",
    "    losses.append(current_loss)\n",
    "    print(\"Iteration {}, the loss is {}, parameters k is {} and b is {}\".format(i,current_loss,k,b))\n",
    "    \n",
    "    k_gradient = partial_derivative_k(X_rm, y, price_use_current_parameters)\n",
    "    b_gradient = partial_derivative_b(y, price_use_current_parameters)\n",
    "    \n",
    "    k = k + (-1 * k_gradient) * learning_rate\n",
    "    b = b + (-1 * b_gradient) * learning_rate\n",
    "best_k = k\n",
    "best_b = b"
   ]
  },
  {
   "cell_type": "code",
   "execution_count": 66,
   "metadata": {},
   "outputs": [
    {
     "data": {
      "text/plain": [
       "[<matplotlib.lines.Line2D at 0x1e7dd6627b8>]"
      ]
     },
     "execution_count": 66,
     "metadata": {},
     "output_type": "execute_result"
    },
    {
     "data": {
      "image/png": "[encoded data removed]",
      "text/plain": [
       "<Figure size 432x288 with 1 Axes>"
      ]
     },
     "metadata": {
      "needs_background": "light"
     },
     "output_type": "display_data"
    }
   ],
   "source": [
    "plt.plot(list(range(iteration_num)),losses)"
   ]
  },
  {
   "cell_type": "code",
   "execution_count": 67,
   "metadata": {},
   "outputs": [
    {
     "data": {
      "text/plain": [
       "<matplotlib.collections.PathCollection at 0x1e7dd6cc4a8>"
      ]
     },
     "execution_count": 67,
     "metadata": {},
     "output_type": "execute_result"
    },
    {
     "data": {
      "image/png": "[encoded data removed]",
      "text/plain": [
       "<Figure size 432x288 with 1 Axes>"
      ]
     },
     "metadata": {
      "needs_background": "light"
     },
     "output_type": "display_data"
    }
   ],
   "source": [
    "price_use_best_parameters = [price(r, best_k, best_b) for r in X_rm]\n",
    "\n",
    "plt.scatter(X_rm,y)\n",
    "plt.scatter(X_rm,price_use_current_parameters)"
   ]
  },
  {
   "cell_type": "code",
   "execution_count": 68,
   "metadata": {},
   "outputs": [
    {
     "data": {
      "text/plain": [
       "4.893749128795481"
      ]
     },
     "execution_count": 68,
     "metadata": {},
     "output_type": "execute_result"
    }
   ],
   "source": [
    "best_k"
   ]
  },
  {
   "cell_type": "code",
   "execution_count": 69,
   "metadata": {},
   "outputs": [
    {
     "data": {
      "text/plain": [
       "-7.900725068778205"
      ]
     },
     "execution_count": 69,
     "metadata": {},
     "output_type": "execute_result"
    }
   ],
   "source": [
    "best_b"
   ]
  },
  {
   "cell_type": "code",
   "execution_count": null,
   "metadata": {},
   "outputs": [],
   "source": [
    "loss"
   ]
  },
  {
   "cell_type": "code",
   "execution_count": null,
   "metadata": {},
   "outputs": [],
   "source": []
  },
  {
   "cell_type": "code",
   "execution_count": null,
   "metadata": {},
   "outputs": [],
   "source": []
  },
  {
   "cell_type": "code",
   "execution_count": null,
   "metadata": {},
   "outputs": [],
   "source": []
  },
  {
   "cell_type": "code",
   "execution_count": null,
   "metadata": {},
   "outputs": [],
   "source": []
  },
  {
   "cell_type": "code",
   "execution_count": null,
   "metadata": {},
   "outputs": [],
   "source": []
  },
  {
   "cell_type": "code",
   "execution_count": null,
   "metadata": {},
   "outputs": [],
   "source": []
  },
  {
   "cell_type": "code",
   "execution_count": null,
   "metadata": {},
   "outputs": [],
   "source": []
  },
  {
   "cell_type": "code",
   "execution_count": null,
   "metadata": {},
   "outputs": [],
   "source": []
  },
  {
   "cell_type": "code",
   "execution_count": null,
   "metadata": {},
   "outputs": [],
   "source": []
  },
  {
   "cell_type": "code",
   "execution_count": null,
   "metadata": {},
   "outputs": [],
   "source": []
  },
  {
   "cell_type": "code",
   "execution_count": null,
   "metadata": {},
   "outputs": [],
   "source": []
  },
  {
   "cell_type": "code",
   "execution_count": null,
   "metadata": {},
   "outputs": [],
   "source": []
  },
  {
   "cell_type": "code",
   "execution_count": null,
   "metadata": {},
   "outputs": [],
   "source": []
  },
  {
   "cell_type": "code",
   "execution_count": null,
   "metadata": {},
   "outputs": [],
   "source": []
  },
  {
   "cell_type": "code",
   "execution_count": null,
   "metadata": {},
   "outputs": [],
   "source": []
  }
 ],
 "metadata": {
  "kernelspec": {
   "display_name": "Python 3",
   "language": "python",
   "name": "python3"
  },
  "language_info": {
   "codemirror_mode": {
    "name": "ipython",
    "version": 3
   },
   "file_extension": ".py",
   "mimetype": "text/x-python",
   "name": "python",
   "nbconvert_exporter": "python",
   "pygments_lexer": "ipython3",
   "version": "3.7.3"
  }
 },
 "nbformat": 4,
 "nbformat_minor": 2
}
